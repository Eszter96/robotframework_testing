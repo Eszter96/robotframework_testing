{
 "cells": [
  {
   "cell_type": "code",
   "execution_count": null,
   "metadata": {},
   "outputs": [],
   "source": [
    "*** Settings ***\n",
    "Library   SeleniumLibrary\n",
    "Library   OperatingSystem"
   ]
  },
  {
   "cell_type": "code",
   "execution_count": null,
   "metadata": {},
   "outputs": [],
   "source": [
    "*** Variables ***\n",
    "${OriginalShotDir}   original/\n",
    "#Define name for directory where the screenshot will be stored\n",
    "${TestShotDir}   test"
   ]
  },
  {
   "cell_type": "code",
   "execution_count": null,
   "metadata": {},
   "outputs": [],
   "source": [
    "*** Test Cases ***\n",
    "Open the browser and accept cookies\n",
    "   Open browser   https://www.sueddeutsche.de/\n",
    "   Maximize browser window\n",
    "   # Wait to load the page\n",
    "   Page should contain   Zeitung\n",
    "   Wait until element is visible   xpath:/html/body/div[7]/iframe\n",
    "   Select frame   xpath:/html/body/div[7]/iframe\n",
    "   # Click Accept button for cookies\n",
    "   Click element   xpath:/html/body/div/div[2]/div[3]/div/div/button[1]\n",
    "   Unselect frame "
   ]
  },
  {
   "cell_type": "code",
   "execution_count": null,
   "metadata": {},
   "outputs": [],
   "source": [
    "*** Test Cases ***\n",
    "Create directory to store screenshot\n",
    "   # Create directory to store screenshot if it is not exists\n",
    "   Create directory   ${TestShotDir}\n",
    "Take screenshot from the Süddeutsche Zeitung element and save it to make modification on that\n",
    "   Set screenshot directory   ${TestShotDir}\n",
    "   # Delete all content of the given directory\n",
    "   Empty directory   ${TestShotDir}\n",
    "   Capture element screenshot   css:html body.homepage header#szde.sz-header div.sz-header-logo h1#header-logo-img.product-title.sz-header-logo--desktop a.product-link svg"
   ]
  },
  {
   "cell_type": "code",
   "execution_count": null,
   "metadata": {},
   "outputs": [],
   "source": [
    "*** Test Cases ***\n",
    "Compare elements using magick\n",
    "   #Set path for where the screenshot is located and where the result of the comparison will we saved\n",
    "   ${path}=   set variable   ${TestShotDir}/\n",
    "   \n",
    "   # Compare images and get store the result into and variable - will be an array\n",
    "   ${diffvalue}=   Run and return rc and output   magick ${OriginalShotDir}Original_element.png ${path}selenium-element-screenshot-1.png -metric RMSE -compare -format \"%[distortion]\" info:\n",
    "   \n",
    "   # Select the second item from the list to get the value of the difference\n",
    "   ${diffvalue}=   set variable   ${diffvalue}[1]\n",
    "   \n",
    "   # If the value is more, than zero it means there is difference and we use (again) magick to detect the differences and save a picture which highlights the differences\n",
    "   Run keyword if   ${diffvalue}>0   run   magick ${OriginalShotDir}Original_element.png ${path}selenium-element-screenshot-1.png -metric RMSE -compare ${path}difference.png"
   ]
  },
  {
   "cell_type": "code",
   "execution_count": null,
   "metadata": {},
   "outputs": [],
   "source": [
    "*** Test Cases ***\n",
    "Compare css properties of elements\n",
    "   # Create variables for the attributes to be tested\n",
    "   ${attribute_color}=   set variable   color\n",
    "   ${attribute_font_family}=   set variable   font-family\n",
    "\n",
    "   # Get color and font-family for the first element\n",
    "   ${first_element}=    Get webelement   xpath:/html/body/div[3]/main/section[3]/ul/li[1]/div\n",
    "   ${color_of_first_element}=   Call method   ${first_element}   value_of_css_property   ${attribute_color}\n",
    "   ${font_of_first_element}=   Call method   ${first_element}   value_of_css_property   ${attribute_font_family}\n",
    "   \n",
    "   # Count how much similar element can be found on the page   \n",
    "   ${count}=  Get element count   xpath:/html/body/div[3]/main/section[3]/ul/li[*]/div\n",
    "   \n",
    "   # Iterate through on elements and and check if the css properties are matching with the properties of the first element\n",
    "   # Since we want to compare the with the first element we start the iteration with the second element (in range 2)\n",
    "   FOR   ${INDEX}  IN RANGE  2   ${count}+1   \n",
    "      ${current_element}=    Get webelement   xpath:/html/body/div[3]/main/section[3]/ul/li[${INDEX}]/div\n",
    "      ${color_of_current_element}=   Call method   ${current_element}   value_of_css_property   ${attribute_color}\n",
    "      ${font_of_current_element}=   Call method   ${current_element}   value_of_css_property   ${attribute_font_family}\n",
    "   \n",
    "      Should be equal   ${color_of_first_element}   ${color_of_current_element}\n",
    "      Should be equal   ${font_of_first_element}   ${font_of_current_element}\n",
    "   END"
   ]
  },
  {
   "cell_type": "code",
   "execution_count": null,
   "metadata": {},
   "outputs": [],
   "source": [
    "*** Test Cases ***\n",
    "Compare css properties of buttons\n",
    "    # Get two buttons and save into a variable the css attribute to be tested\n",
    "    ${first_button}=  Get webelement  xpath:/html/body/div[3]/main/section[1]/div[2]/div[3]/div/div/a[1]\n",
    "    ${second_button}=  Get webelement  xpath:/html/body/div[3]/main/section[1]/div[2]/div[3]/div/div/a[2]\n",
    "    ${attribute}=   set variable   background-color\n",
    "    \n",
    "    # Get the css property for both element and compare them\n",
    "    ${bg_color_of_first_btn}=  Call method   ${first_button}   value_of_css_property   ${attribute}\n",
    "    ${bg_color_of_second_btn}=  Call method   ${second_button}   value_of_css_property   ${attribute}\n",
    "    Should be equal   ${bg_color_of_first_btn}   ${bg_color_of_second_btn} "
   ]
  },
  {
   "cell_type": "code",
   "execution_count": null,
   "metadata": {},
   "outputs": [],
   "source": [
    "*** Test Cases ***\n",
    "Compare the horizontal position of images with class=sz-teaser__image sz-teaser__image--s lazyloaded\n",
    "   # Make sure the window has been loaded\n",
    "   Page should contain   Zeitung\n",
    "   #${first_image_horizontal_position}=   Get horizontal position   xpath:/html/body/div[3]/main/section[1]/div[1]/div/div[4]/a/div/div[1]/picture/img\n",
    "   \n",
    "   # Get all elements with the required classname mentioned in the task description\n",
    "   ${images}=   Get webelements   xpath:/html/body/div[3]/main/section[1]/div[1]/div/div[*]/a/div/div[1]/picture/img\n",
    "   \n",
    "   # Get horizontal position of first image\n",
    "   ${first_image_horizontal_position}=   Get horizontal position   ${images}[0]\n",
    "   \n",
    "   # Get how much similar element are there to get to knoww how many times we have to repeat the for loop\n",
    "   ${count}=   Get length   ${images}\n",
    "   FOR   ${INDEX}   IN RANGE  1  ${count}\n",
    "      ${current_image_horizontal_position}=   Get horizontal position    ${images}[${INDEX}]\n",
    "      Should be equal   ${first_image_horizontal_position}   ${current_image_horizontal_position}\n",
    "   END"
   ]
  }
 ],
 "metadata": {
  "kernelspec": {
   "display_name": "Robot Framework",
   "language": "robotframework",
   "name": "robotkernel"
  },
  "language_info": {
   "codemirror_mode": "robotframework",
   "file_extension": ".robot",
   "mimetype": "text/plain",
   "name": "Robot Framework",
   "pygments_lexer": "robotframework"
  }
 },
 "nbformat": 4,
 "nbformat_minor": 2
}