{
 "cells": [
  {
   "cell_type": "markdown",
   "metadata": {},
   "source": [
    "# TEST CASES "
   ]
  },
  {
   "cell_type": "code",
   "execution_count": null,
   "metadata": {},
   "outputs": [],
   "source": [
    "*** Settings ***\n",
    "Library   String\n",
    "Library   Collections\n",
    "Library   OperatingSystem\n",
    "Library   SeleniumLibrary"
   ]
  },
  {
   "cell_type": "markdown",
   "metadata": {},
   "source": [
    "## MANDATORY TESTS"
   ]
  },
  {
   "cell_type": "code",
   "execution_count": null,
   "metadata": {},
   "outputs": [],
   "source": [
    "*** Keywords ***\n",
    "Open webapp\n",
    "    Open browser   https://vaalikone.yle.fi/eduskuntavaali2019?lang=en-US\n",
    "    Maximize browser window\n",
    "    #Check if the welcome text is visible\n",
    "    Wait Until Element Is Visible   xpath:/html/body/div/main/div[1]/section/h1\n",
    "\n",
    "Open webapp in the browser and select municipality\n",
    "    Open webapp\n",
    "    Click element   xpath:/html/body/div/main/div[1]/section/div[2]/input\n",
    "    Input text   xpath:/html/body/div/main/div[1]/section/div[2]/input   Hä\n",
    "    Page should contain   Hämeenlinna\n",
    "    Click element   xpath:/html/body/div/main/div[1]/section/div[2]/div/a[2]\n",
    "    Click button   xpath:/html/body/div/main/div[1]/section/button\n",
    "\n",
    "Open webapp and browse candidates\n",
    "    Open webapp\n",
    "    Click element   xpath:/html/body/div/main/div[1]/section/a\n",
    "\n",
    "Test if the elements are at the same horizontal position\n",
    "    [Arguments]   ${count}   ${INDEX}\n",
    "    FOR   ${i}   IN RANGE   1   ${count}+1\n",
    "        #Loop through on elements in the current topic and check the horizontal position of the question number \n",
    "        ${horizontalPosition2}=   Get horizontal position   xpath:/html/body/div/main/div[1]/div/article[${INDEX}]/section[${i}]/div/div[1]\n",
    "        #Compare the horizontal position of the current element to the horisontal position of the first element\n",
    "        Run keyword and continue on failure   Should be equal   ${horizontalPosition}   ${horizontalPosition2}\n",
    "    END\n",
    "    \n",
    "Check if the font and color is matching in questions\n",
    "    [Arguments]   ${count}   ${INDEX}\n",
    "    FOR   ${i}   IN RANGE   1   ${count}+1\n",
    "        ${current_question}=   Get webelement   xpath:/html/body/div/main/div[1]/div/article[${INDEX}]/section[${i}]/div/div[2]    \n",
    "        ${color2}=   Call method   ${current_question}   value_of_css_property   color\n",
    "        ${font2}=   Call method   ${current_question}   value_of_css_property   font-family\n",
    "        Should be equal   ${color}   ${color2}\n",
    "        Should be equal   ${font}   ${font2}\n",
    "    END\n",
    "\n",
    "Select answers\n",
    "    [Arguments]   ${count}   ${INDEX}\n",
    "    FOR   ${i}   IN RANGE   ${count}\n",
    "        #Use the counter initialized in the test case to access the correct value from list\n",
    "        ${value}=   set variable   ${answers}[${counter}]\n",
    "        Click element   xpath:/html/body/div/main/div[1]/div/article[${INDEX}]/section[${i}+1]/div/div[3]/div[${value}]/input\n",
    "        #After the current value has been inputted, the counter is increased by one and the previous value will be overwritten so next time the keyword will be called the new value will be used \n",
    "        ${counter}=   Evaluate   ${counter}+1\n",
    "        Set global variable   ${counter}\n",
    "    END"
   ]
  },
  {
   "cell_type": "markdown",
   "metadata": {},
   "source": [
    "### Mandatory test 1"
   ]
  },
  {
   "cell_type": "code",
   "execution_count": null,
   "metadata": {},
   "outputs": [],
   "source": [
    "*** Test Cases ***\n",
    "Check that question number elements are at the same distance from the left edge of the screen\n",
    "    #Use predefined keyword\n",
    "    Open webapp in the browser and select municipality\n",
    " \n",
    "    #Get how many different topic can be found on the page \n",
    "    ${count}=   Get element count   xpath:/html/body/div/main/div[1]/div/article[*]\n",
    "    \n",
    "    Wait until element is visible   xpath:/html/body/div/main/div[1]/div/article[1]/section[1]/h2\n",
    "    \n",
    "    #Get the horizontal position of the first number - this will be the base for further comparisons\n",
    "    ${horizontalPosition}=   Get horizontal position   xpath:/html/body/div/main/div[1]/div/article[1]/section[1]/div/div[1]\n",
    "\n",
    "    Set global variable   ${horizontalPosition}\n",
    "    \n",
    "    #In this for loop we iterating through on the different topics, which consist of multiple questions each\n",
    "    FOR   ${INDEX}   IN RANGE   1   ${count}+1\n",
    "        #Count how many questions belong to the current topic\n",
    "        ${count2}=   Get element count   xpath:/html/body/div/main/div[1]/div/article[${INDEX}]/section[*]/div/div[1]\n",
    "        \n",
    "        #Use keyword to loop through on the questions in the current topic - count2 will be used to determine the range of the loop, the INDEX will be used to identify the webelements\n",
    "        Test if the elements are at the same horizontal position   ${count2}   ${INDEX}\n",
    "    END"
   ]
  },
  {
   "cell_type": "markdown",
   "metadata": {},
   "source": [
    "### Mandatory test 2"
   ]
  },
  {
   "cell_type": "code",
   "execution_count": null,
   "metadata": {},
   "outputs": [],
   "source": [
    "*** Test Cases ***\n",
    "Check if the color and the font is the same for all questions\n",
    "    #Get the first question element \n",
    "    ${question1}=   Get webelement   xpath:/html/body/div/main/div[1]/div/article[1]/section[1]/div/div[2]\n",
    "    \n",
    "    #Get the color of the first question - and make it available for other cells\n",
    "    ${color}=   Call method   ${question1}   value_of_css_property   color\n",
    "    set global variable   ${color}\n",
    "    \n",
    "    #Get the font of the first question - and make it available for other cells\n",
    "    ${font}=   Call method   ${question1}   value_of_css_property   font-family\n",
    "    set global variable   ${font}\n",
    "    \n",
    "    #Count the articles - same as in previous test case\n",
    "    ${count}=   Get element count   xpath:/html/body/div/main/div[1]/div/article[*]\n",
    "    \n",
    "    #Following the same logic as in previous test case we iterate through the questions by topics\n",
    "    FOR   ${INDEX}   IN RANGE   1   ${count}+1\n",
    "        ${count2}=   Get element count    xpath:/html/body/div/main/div[1]/div/article[${INDEX}]/section[*]/div/div[2]\n",
    "       \n",
    "        #Use predefined keyword to make the comparisions\n",
    "        Check if the font and color is matching in questions   ${count2}   ${INDEX}\n",
    "    END"
   ]
  },
  {
   "cell_type": "markdown",
   "metadata": {},
   "source": [
    "### Mandatory test 3"
   ]
  },
  {
   "cell_type": "code",
   "execution_count": null,
   "metadata": {},
   "outputs": [],
   "source": [
    "*** Test Cases ***\n",
    "Answer all questions and proceed to show the results\n",
    "    Open webapp in the browser and select municipality\n",
    "    #This number will indicate which is the current value to be used for answering\n",
    "    ${counter}=   set variable   0\n",
    "    Set global variable   ${counter}\n",
    "    \n",
    "    #For relative path it's enough if only the filename is defined\n",
    "    ${path}=   set variable   valinnat.txt\n",
    "    \n",
    "    #Read the content of valinnat.txt\n",
    "    ${answers}=   Get file   ${path}\n",
    "    \n",
    "    #Split the numbers by rows - and get those in a list\n",
    "    @{answers}=   Split string   ${answers}  \\n\n",
    "    Set global variable   @{answers}\n",
    "    \n",
    "    #Count again the topics\n",
    "    ${count}=   Get element count   xpath:/html/body/div/main/div[1]/div/article[*]\n",
    "    \n",
    "    #Loop through the topics\n",
    "    FOR   ${INDEX}  IN RANGE   ${count}+1\n",
    "        ${count2}=   Get element count   xpath:/html/body/div/main/div[1]/div/article[${INDEX}]/section[*]/div/div[1]\n",
    "        #Use predefined keyword\n",
    "        Select answers   ${count2}   ${INDEX} \n",
    "    END\n",
    "    Click element   xpath:/html/body/div/main/div[1]/div/button"
   ]
  },
  {
   "cell_type": "markdown",
   "metadata": {},
   "source": [
    "### Mandatory test 4"
   ]
  },
  {
   "cell_type": "code",
   "execution_count": null,
   "metadata": {},
   "outputs": [],
   "source": [
    "*** Test Cases ***\n",
    "Check if the name is correctly given in all page for candidates in the result\n",
    "    #This testcase requires to run the Mandatory test 3 first to get to see the page being tested\n",
    "    Page should contain   Candidates\n",
    "    #Get how many candidates can be found on the page where the result can be seen\n",
    "    ${count}=   Get element count   xpath:/html/body/div/main/div[1]/div/section[*]/div[1]/div[1]/a[2]\n",
    "    \n",
    "    #Loop through the candidates\n",
    "    FOR   ${INDEX}   IN RANGE   1   ${count}+1\n",
    "        #Get the name of the current candidates\n",
    "        ${name}=   Get text   xpath:/html/body/div/main/div[1]/div/section[${INDEX}]/div[1]/div[1]/h3/a\n",
    "        \n",
    "        #Go to the details of the current candidate\n",
    "        Page should contain   Meet the candidate\n",
    "        Click element   xpath:/html/body/div/main/div[1]/div/section[${INDEX}]/div[1]/div[1]/a[2]\n",
    "        \n",
    "        #Get the name can be found on the profile of the candidate\n",
    "        Wait Until Element Is Visible   xpath:/html/body/div/main/div[1]/div/section[1]/div[1]/div[1]/h1\n",
    "        ${name2}=   Get text   xpath:/html/body/div/main/div[1]/div/section[1]/div[1]/div[1]/h1\n",
    "       \n",
    "        #Compare the names can be found on different pages\n",
    "        Run keyword and continue on failure   Should be equal   ${name}   ${name2}\n",
    "        \n",
    "        #Go back to previous page (where the matching candidates are listed)\n",
    "        Click element   xpath:/html/body/div/main/div[1]/header/div[1]/button/img\n",
    "    END"
   ]
  },
  {
   "cell_type": "markdown",
   "metadata": {},
   "source": [
    "### Mandatory test 5"
   ]
  },
  {
   "cell_type": "code",
   "execution_count": null,
   "metadata": {},
   "outputs": [],
   "source": [
    "*** Test Cases ***\n",
    "Browse candidates and check if the images are matching\n",
    "    #Use predefined keyword to get to the page where all the candidates can be browsed\n",
    "    Open webapp and browse candidates\n",
    "    \n",
    "    #Name of the directory where the screenshow from the browser will be stored\n",
    "    ${directory}=   set variable   original_image/\n",
    "    \n",
    "    #Name of the directory where the downloaded image will be stored\n",
    "    ${directory2}=   set variable   downloaded_image/\n",
    "    \n",
    "    #Name of the directory where the image indicating the differences will be stored\n",
    "    ${directory3}=   set variable   result/\n",
    "    \n",
    "    #Wait until the search bar is visible on the page\n",
    "    Wait until element is visible   xpath:/html/body/div/main/div[1]/div/div[1]/input\n",
    "    Input text   xpath:/html/body/div/main/div[1]/div/div[1]/input   Harri Aalto\n",
    "    \n",
    "    #Click on the name of the candidate\n",
    "    Click element   xpath:/html/body/div/main/div[1]/div/div[3]/div[1]/div/div/div/section/div/div[1]/h3/a\n",
    "    \n",
    "    #Create the directory if not exists\n",
    "    Create directory   ${directory}\n",
    "    Set screenshot directory   ${directory}\n",
    "    Empty directory   ${directory}\n",
    "    \n",
    "    #Capture the screenshot in the created directory\n",
    "    Wait until element is visible   xpath:/html/body/div/main/div[1]/div/section[1]/img\n",
    "    Capture element screenshot    xpath:/html/body/div/main/div[1]/div/section[1]/img\n",
    "    \n",
    "    #Get the difference value\n",
    "    ${diffvalue}=   Run and return rc and output   magick ${directory}selenium-element-screenshot-1.png ${directory2}selenium-element-screenshot-1.png -metric RMSE -compare -format \"%[distortion]\" info:\n",
    "    ${diffvalue}=   Set variable   ${diffvalue}[1]\n",
    "    \n",
    "    #If there's a difference, create a difference.png file where the differences are highlighted\n",
    "    Create directory   ${directory3}\n",
    "    Run keyword if   ${diffvalue}>0   run   magick ${directory}selenium-element-screenshot-1.png ${directory2}selenium-element-screenshot-1.png -metric RMSE -compare ${directory3}difference.png"
   ]
  },
  {
   "cell_type": "markdown",
   "metadata": {},
   "source": [
    "## REMAINING TEST CASES"
   ]
  },
  {
   "cell_type": "code",
   "execution_count": null,
   "metadata": {},
   "outputs": [],
   "source": [
    "*** Keywords ***\n",
    "Increase index\n",
    "    #This keyword is used in Test 7 \n",
    "    [Arguments]   ${INDEX}\n",
    "    ${INDEX}=   Evaluate   ${INDEX}+1\n",
    "    Log   index was increased\n",
    "    set global variable   ${INDEX}"
   ]
  },
  {
   "cell_type": "markdown",
   "metadata": {},
   "source": [
    "### Test 6"
   ]
  },
  {
   "cell_type": "code",
   "execution_count": null,
   "metadata": {},
   "outputs": [],
   "source": [
    "*** Test Cases ***\n",
    "Test if there are pictures for all topics on the form\n",
    "    #Use prdefined keyword (from second cell) to get to the form\n",
    "    Open webapp in the browser and select municipality\n",
    "    \n",
    "    #Count how many topics can be found on the form\n",
    "    ${numOfTopics}=   Get element count   xpath:/html/body/div/main/div[1]/div/article[*]\n",
    "    \n",
    "    #Count how many images can be found on the form\n",
    "    ${numOfPictures}=  Get element count   xpath:/html/body/div/main/div[1]/div/article[*]/img\n",
    "    Should be equal   ${numOfTopics}   ${numOfPictures}"
   ]
  },
  {
   "cell_type": "markdown",
   "metadata": {},
   "source": [
    "### Test 7"
   ]
  },
  {
   "cell_type": "code",
   "execution_count": null,
   "metadata": {
    "scrolled": true
   },
   "outputs": [],
   "source": [
    "*** Test Cases ***\n",
    "Test if all pictures are the same size on the form\n",
    "    #Use predefined keyword to get to the form\n",
    "    Open webapp in the browser and select municipality\n",
    "    \n",
    "    Wait until element is visible   xpath:/html/body/div/main/div[1]/div/article[1]/img\n",
    "    \n",
    "    #Get the number of picture found on the form\n",
    "    ${numOfPictures}=  Get element count   xpath:/html/body/div/main/div[1]/div/article[*]/img\n",
    "    \n",
    "    #Get the size of the first picture found\n",
    "    ${sizeOfFirstPicture}=   Get element size   xpath:/html/body/div/main/div[1]/div/article[1]/img\n",
    "    \n",
    "    #Iterating through on the images\n",
    "    FOR   ${INDEX}   IN RANGE   2   ${numOfPictures}+1\n",
    "        \n",
    "        #If the index number is 7 then the number needs to be increased because there is no image for the seventh topic (missing)\n",
    "        #(no image with xpath:/html/body/div/main/div[1]/div/article[7]/img)\n",
    "        Run keyword if   ${INDEX}==7   increase index   ${INDEX}\n",
    "        \n",
    "        #Get the sizes of the images\n",
    "        ${currentPictureSize}=   Get element size   xpath:/html/body/div/main/div[1]/div/article[${INDEX}]/img\n",
    "        Run keyword and continue on failure   Should be equal   ${sizeOfFirstPicture}   ${currentPictureSize}\n",
    "    END"
   ]
  },
  {
   "cell_type": "markdown",
   "metadata": {},
   "source": [
    "### Test 8"
   ]
  },
  {
   "cell_type": "code",
   "execution_count": null,
   "metadata": {},
   "outputs": [],
   "source": [
    "*** Test Cases ***\n",
    "Test if the links in the footer are the same size\n",
    "    #Using predefined keyword to get to the form\n",
    "    Open webapp in the browser and select municipality\n",
    "    \n",
    "    #Count the elements can be found with the css selector provided - tag.classname - (xpath wasn't working here) \n",
    "    ${count}=   Get element count   css:button.dbFmdy\n",
    "    \n",
    "    #Get the first webelement to be tested\n",
    "    ${element}=   Get webelement   xpath:/html/body/div/div/div[1]/button[1]\n",
    "    \n",
    "    #Use the first webelement and get the font-size of it\n",
    "    ${fontsizeOfFirstElement}=   Call method   ${element}   value_of_css_property   font-size\n",
    "    \n",
    "    #Remove px from the end of the value\n",
    "    ${fontsizeOfFirstElement}=   Remove string   ${fontsizeOfFirstElement}   px\n",
    "    \n",
    "    #Convert to number\n",
    "    ${fontsizeOfFirstElement}=   Convert to number   ${fontsizeOfFirstElement}\n",
    "    \n",
    "    FOR   ${INDEX}   IN RANGE   2   ${count}+1\n",
    "        #Get current webelement\n",
    "        ${current_element}=   Get webelement   xpath:/html/body/div/div/div[1]/button[${INDEX}]\n",
    "        \n",
    "        #Get the font-size of current webelement\n",
    "        ${fontsize}=   Call method   ${current_element}   value_of_css_property   font-size\n",
    "        \n",
    "        #Remove px\n",
    "        ${fontsize}=   Remove string   ${fontsize}   px\n",
    "        \n",
    "        #Convert result to number\n",
    "        ${fontsize}=   Convert to number   ${fontsize}\n",
    "        \n",
    "        #Make the comparison\n",
    "        Run keyword and continue on failure   Should be equal   ${fontsize}   ${fontsizeOfFirstElement}\n",
    "    END"
   ]
  },
  {
   "cell_type": "markdown",
   "metadata": {},
   "source": [
    "### Test 9"
   ]
  },
  {
   "cell_type": "code",
   "execution_count": null,
   "metadata": {},
   "outputs": [],
   "source": [
    "*** Test Cases ***\n",
    "Check if the percentages for the top seven candidates are in descending order\n",
    "    #This testcase requires to run the Mandatory test 3 first to get to see the page being tested\n",
    "    \n",
    "    #Count how many candidates are displayed on the screen of the results\n",
    "    ${count}=   Get element count   xpath:/html/body/div/main/div[1]/div/section[*]/div[1]/div[2]\n",
    "    \n",
    "    #Create an empty list where the percentage values will be stored\n",
    "    @{numbers}=   Create list   \n",
    "    \n",
    "    #Iterating through on the candidates\n",
    "    FOR   ${INDEX}   IN RANGE   1   ${count}+1\n",
    "        #Get percentage of match for current candidate\n",
    "        ${number}=   Get text   xpath:/html/body/div/main/div[1]/div/section[${INDEX}]/div[1]/div[2]\n",
    "        \n",
    "        #Remove the % sign from the end of the value\n",
    "        ${number}=   Remove string   ${number}   %\n",
    "        \n",
    "        #Convert result to number\n",
    "        ${number}=   Convert to number   ${number}\n",
    "        Append to list   ${numbers}   ${number}  \n",
    "    END\n",
    "    \n",
    "    #Print out in the log the percentages\n",
    "    Log   ${numbers}\n",
    "    \n",
    "    #Iterating through on the \"numbers\" list and compare the numbers\n",
    "    FOR   ${INDEX}   IN RANGE   1   ${count}\n",
    "        #Print out the index of the previous number\n",
    "        Log   ${numbers}[${INDEX-1}]\n",
    "        #Print out the index of the current number\n",
    "        Log   ${numbers}[${INDEX}]\n",
    "        \n",
    "        #Compare the previous number to the current one: the previous should be larger or equal to the current number\n",
    "        Should be true   ${numbers}[${INDEX-1}] >= ${numbers}[${INDEX}]\n",
    "    END"
   ]
  },
  {
   "cell_type": "markdown",
   "metadata": {},
   "source": [
    "### Test 10"
   ]
  },
  {
   "cell_type": "code",
   "execution_count": null,
   "metadata": {},
   "outputs": [],
   "source": [
    "*** Test Cases ***\n",
    "Check if the images for the top seven candidates are equally sized\n",
    "    #This testcase requires to run the Mandatory test 3 first to get to see the page being tested\n",
    "    \n",
    "    #Count how many candidates are there on the result page\n",
    "    ${count}=   Get element count   xpath:/html/body/div/main/div[1]/div/section[*]/div[1]/div[2]\n",
    "    \n",
    "    #Create empty list where the sizes of the images will be stored\n",
    "    @{sizes}=   Create list\n",
    "    \n",
    "    #Iterating through on the candidates\n",
    "    FOR   ${INDEX}   IN RANGE   1   ${count}+1\n",
    "        #Check if the \"Meet the candidates\" text is visible on the page\n",
    "        Page should contain   Meet the candidate\n",
    "        \n",
    "        #Click on the \"Meet the candidates\" element\n",
    "        Click element   xpath:/html/body/div/main/div[1]/div/section[${INDEX}]/div[1]/div[1]/a[2]\n",
    "        \n",
    "        #Get the size of the image appearing on the page\n",
    "        ${size}=   Get element size   xpath:/html/body/div/main/div[1]/div/section[1]/img\n",
    "        \n",
    "        #Add the size of the current image to the list\n",
    "        Append to list   ${sizes}   ${size}\n",
    "        \n",
    "        #Use button on top of the page to get back to the candidates\n",
    "        Click element   xpath:/html/body/div/main/div[1]/header/div[1]/button/img\n",
    "    END\n",
    "    \n",
    "    #Print out the resulted list containing the sizes of each image \n",
    "    Log   ${sizes}\n",
    "    \n",
    "    #Iterating through on each image sizes and get to see if they are matching\n",
    "    FOR   ${INDEX}   IN RANGE   1   ${count}\n",
    "        Run keyword and continue on failure   Should be true   ${sizes}[${INDEX-1}]==${sizes}[${INDEX}]\n",
    "    END"
   ]
  }
 ],
 "metadata": {
  "kernelspec": {
   "display_name": "Robot Framework",
   "language": "robotframework",
   "name": "robotkernel"
  },
  "language_info": {
   "codemirror_mode": "robotframework",
   "file_extension": ".robot",
   "mimetype": "text/plain",
   "name": "Robot Framework",
   "pygments_lexer": "robotframework"
  }
 },
 "nbformat": 4,
 "nbformat_minor": 2
}