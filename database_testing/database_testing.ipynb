{
 "cells": [
  {
   "cell_type": "code",
   "execution_count": null,
   "metadata": {},
   "outputs": [],
   "source": [
    "*** Settings ***\n",
    "Library   DatabaseLibrary\n",
    "Library   Collections\n",
    "Library   String\n",
    "Library   OperatingSystem"
   ]
  },
  {
   "cell_type": "code",
   "execution_count": null,
   "metadata": {},
   "outputs": [],
   "source": [
    "*** Variables ***\n",
    "#it needed only to create the connections but after that other db can be used\n",
    "${dbname}   <someexistingdatabaseinyourmysqlserver> \n",
    "${dbuser}   <username>\n",
    "${dbpass}   <password>\n",
    "${dbhost}   localhost\n",
    "${dbport}   3306\n",
    "@{TablesInDataBase}   aine   kurssi   opettaja   oppilas   suoritus\n",
    "@{ColumnsInOppilas}   oppilasnro   etunimi   sukunimi   syntpvm   lahiosoite   postinro   postitmp   sukupuoli\n",
    "\n",
    "#Define a databasename what will be created by the first test case\n",
    "${dbToBeCreatedAndTested}   test"
   ]
  },
  {
   "cell_type": "code",
   "execution_count": null,
   "metadata": {},
   "outputs": [],
   "source": [
    "*** Keywords ***\n",
    "\n",
    "Make connection\n",
    "    Connect to database   pymysql   ${dbname}  ${dbuser}  ${dbpass}  ${dbhost}   ${dbport}\n",
    "   \n",
    "Create database to be tested\n",
    "    [Arguments]   ${databasename}\n",
    "    #Drop the database first in order to avoid implications with insertion (if we want to test multiple times)\n",
    "    Execute sql string   drop database if exists ${databasename}\n",
    "    Execute sql string   create database ${databasename};\n",
    "    Execute sql string   use ${databasename};\n",
    "    #Use commands from \"createtables\" text file to execute commands on the database\n",
    "    ${GetCommands}=   Get file  ./createtables.txt \n",
    "    ${CreationCommands}=  split string   ${GetCommands}   ;\n",
    "    ${TableCount}=   get length   ${CreationCommands}\n",
    "    ${IndexToBeRemoved}=   evaluate   ${TableCount}-1\n",
    "    Remove from list   ${CreationCommands}   ${IndexToBeRemoved}\n",
    "    ${TableCount}=   Get length  ${CreationCommands}\n",
    "    FOR   ${INDEX}   IN RANGE   ${TableCount}\n",
    "       Execute sql string   ${CreationCommands}[${INDEX}]\n",
    "    END\n",
    "    \n",
    "Insert records into tables\n",
    "    [Arguments]   ${databasename}\n",
    "    #select the created database for further use\n",
    "    Execute sql string   use ${databasename};\n",
    "    #Use commands from \"insertrecords\" text file to execute commands on the tables\n",
    "    ${GetCommands}=   Get file  ./insertrecords.txt \n",
    "    ${CreationCommands}=  split string   ${GetCommands}   ;\n",
    "    ${InsertCount}=   get length   ${CreationCommands}\n",
    "    ${IndexToBeRemoved}=   evaluate   ${InsertCount}-1\n",
    "    Remove from list   ${CreationCommands}   ${IndexToBeRemoved}\n",
    "    ${Insertcount}=   Get length  ${CreationCommands}\n",
    "    FOR   ${INDEX}   IN RANGE   ${InsertCount}\n",
    "       Execute sql string   ${CreationCommands}[${INDEX}]\n",
    "    END\n",
    "    set global variable   ${InsertCount}"
   ]
  },
  {
   "cell_type": "code",
   "execution_count": null,
   "metadata": {},
   "outputs": [],
   "source": [
    "#This test case will create the database for later use\n",
    "*** Test Cases ***\n",
    "Create database and insert data\n",
    "    Make connection\n",
    "    Create database to be tested   ${dbToBeCreatedAndTested}\n",
    "    Insert records into tables   ${dbToBeCreatedAndTested}"
   ]
  },
  {
   "cell_type": "code",
   "execution_count": null,
   "metadata": {},
   "outputs": [],
   "source": [
    "*** Test Cases ***\n",
    "Insert column into aine\n",
    "    Make connection\n",
    "    Execute sql string   use ${dbToBeCreatedAndTested};\n",
    "    Execute sql string   ALTER TABLE aine ADD COLUMN osallistuja INT NOT NULL;"
   ]
  },
  {
   "cell_type": "code",
   "execution_count": null,
   "metadata": {},
   "outputs": [],
   "source": [
    "*** Test Cases ***\n",
    "Remove column from aine\n",
    "    Make connection\n",
    "    Execute sql string   use ${dbToBeCreatedAndTested};\n",
    "    Execute sql string   ALTER TABLE aine DROP COLUMN osallistuja;"
   ]
  },
  {
   "cell_type": "code",
   "execution_count": null,
   "metadata": {},
   "outputs": [],
   "source": [
    "*** Test Cases ***\n",
    "Attempt to insert wrong entry into table aine\n",
    "    #In this test case we are supposed to get some error due to wrongly defined command arguments\n",
    "    Make connection\n",
    "    Execute sql string   use ${dbToBeCreatedAndTested};\n",
    "    Execute sql string   INSERT INTO aine VALUES('a720', 'Kielen alkeet', 'h256', 'wrong data');"
   ]
  }
 ],
 "metadata": {
  "kernelspec": {
   "display_name": "Robot Framework",
   "language": "robotframework",
   "name": "robotkernel"
  },
  "language_info": {
   "codemirror_mode": "robotframework",
   "file_extension": ".robot",
   "mimetype": "text/plain",
   "name": "Robot Framework",
   "pygments_lexer": "robotframework"
  }
 },
 "nbformat": 4,
 "nbformat_minor": 2
}
